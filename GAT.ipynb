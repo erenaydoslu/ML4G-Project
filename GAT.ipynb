{
 "cells": [
  {
   "cell_type": "code",
   "execution_count": 16,
   "metadata": {},
   "outputs": [],
   "source": [
    "import json\n",
    "\n",
    "import pandas as pd\n",
    "import numpy as np\n",
    "import networkx as nx\n",
    "\n",
    "import torch\n",
    "from torch_geometric.nn import GATv2Conv, global_max_pool\n",
    "from torch_geometric.data import Data\n",
    "from torch_geometric.loader import GraphSAINTRandomWalkSampler, GraphSAINTNodeSampler\n",
    "from matplotlib import pyplot as plt\n",
    "\n",
    "from train_utils import *\n",
    "from product_graph import *\n",
    "from tqdm.notebook import tqdm\n",
    "from torch_geometric.utils import to_dense_adj\n",
    "from torch.nn import MSELoss\n",
    "from product_graph import generate_parametric_product_graph\n",
    "import networkx as nx\n",
    "from torch_geometric.utils import from_networkx\n",
    "import torch.nn.functional as F\n",
    "import torch.nn as nn\n",
    "from torch_geometric.utils import from_scipy_sparse_matrix\n",
    "from sklearn.preprocessing import StandardScaler\n",
    "import os\n",
    "from sklearn.metrics import mean_absolute_error, r2_score"
   ]
  },
  {
   "cell_type": "code",
   "execution_count": 2,
   "metadata": {},
   "outputs": [],
   "source": [
    "os.environ['CUDA_LAUNCH_BLOCKING'] = \"1\""
   ]
  },
  {
   "cell_type": "code",
   "execution_count": 3,
   "metadata": {},
   "outputs": [],
   "source": [
    "class GATv3Conv(torch.nn.Module):\n",
    "    def __init__(self, in_channels, out_channels, concat = True, heads=1) -> None:\n",
    "        super().__init__()\n",
    "        self.beta = torch.nn.Parameter(torch.tensor(0.5))\n",
    "        self.conv = GATv2Conv(in_channels, out_channels, heads, concat, add_self_loops=False)\n",
    "\n",
    "    def forward(self, x, edge_index, edge_weights):\n",
    "        H, C = self.conv.heads, self.conv.out_channels\n",
    "\n",
    "        if isinstance(x, torch.Tensor):\n",
    "            assert x.dim() == 2\n",
    "            x_l = self.conv.lin_l(x).view(-1, H, C)\n",
    "            if self.conv.share_weights:\n",
    "                x_r = x_l\n",
    "            else:\n",
    "                x_r = self.conv.lin_r(x).view(-1, H, C)\n",
    "        else:\n",
    "            raise TypeError(\"x must be a Tensor\")\n",
    "\n",
    "        assert x_l is not None\n",
    "        assert x_r is not None\n",
    "\n",
    "        # edge_updater_type: (x: PairTensor, edge_attr: OptTensor)\n",
    "        alpha = self.conv.edge_updater(edge_index, x=(x_l, x_r), edge_attr=None)\n",
    "        \n",
    "        alpha = (1-self.beta) * alpha + self.beta * edge_weights.view(edge_weights.shape[0],1)\n",
    "        # propagate_type: (x: PairTensor, alpha: Tensor)\n",
    "        out = self.conv.propagate(edge_index, x=(x_l, x_r), alpha=alpha)\n",
    "\n",
    "        if self.conv.concat:\n",
    "            out = out.view(-1, self.conv.heads * self.conv.out_channels)\n",
    "        else:\n",
    "            out = out.mean(dim=1)\n",
    "\n",
    "        if self.conv.bias is not None:\n",
    "            out = out + self.conv.bias\n",
    "\n",
    "        return out\n",
    "    \n",
    "\n",
    "class GATNN(torch.nn.Module):\n",
    "    def __init__(self, in_dim, hidden_size, out_dim, in_head=8, out_head=1, p=0.25) -> None:\n",
    "        super().__init__()\n",
    "        self.hid = hidden_size\n",
    "        self.in_head = in_head\n",
    "        self.out_head = out_head\n",
    "        self.p = p\n",
    "        \n",
    "        self.conv1 = GATv3Conv(in_channels=in_dim, \n",
    "                               out_channels=self.hid, \n",
    "                               heads=self.in_head)\n",
    "        \n",
    "        self.conv2 = GATv3Conv(in_channels=self.hid*self.in_head, \n",
    "                               out_channels=self.hid, \n",
    "                               heads=self.out_head, \n",
    "                               concat=False)\n",
    "        \n",
    "        self.lin = nn.Linear(self.hid, out_dim)\n",
    "\n",
    "    def forward(self, x, edge_index, edge_weight):\n",
    "        x = self.conv1(x, edge_index, edge_weight)\n",
    "        x = F.relu(x)\n",
    "        x = F.dropout(x, p=self.p, training=self.training)\n",
    "        x = self.conv2(x, edge_index, edge_weight)\n",
    "        \n",
    "        batch = torch.zeros(x.size(0), dtype=torch.long)\n",
    "        x = global_max_pool(x, batch, size=x.shape[0]//4)\n",
    "\n",
    "        x = self.lin(x)\n",
    "        return x"
   ]
  },
  {
   "cell_type": "code",
   "execution_count": 4,
   "metadata": {},
   "outputs": [
    {
     "name": "stderr",
     "output_type": "stream",
     "text": [
      "C:\\Users\\Primakov Chungkham\\AppData\\Local\\Temp\\ipykernel_32232\\2269948961.py:11: UserWarning: To copy construct from a tensor, it is recommended to use sourceTensor.clone().detach() or sourceTensor.clone().detach().requires_grad_(True), rather than torch.tensor(sourceTensor).\n",
      "  edge_index = torch.nonzero(torch.tensor(S), as_tuple=False).t().contiguous()\n"
     ]
    }
   ],
   "source": [
    "dynamic_data = torch.tensor(np.load(\"data/preprocessed/dynamic_data.npy\", allow_pickle=True))\n",
    "S = torch.tensor(np.load(\"data/adjacency/coords_features.npy\", allow_pickle=False))\n",
    "scaler = StandardScaler()\n",
    "data_normalized = scaler.fit_transform(dynamic_data)\n",
    "\n",
    "data = create_forecasting_dataset(data_normalized.T,\n",
    "                                      splits = [0.8, 0.1, 0.1],\n",
    "                                      pred_horizen= 1,\n",
    "                                      obs_window= 4,\n",
    "                                      verbose = 0)\n",
    "edge_index = torch.nonzero(torch.tensor(S), as_tuple=False).t().contiguous()\n",
    "edge_weight = S[edge_index[0], edge_index[1]]\n",
    "\n",
    "criterion = MSELoss()\n",
    "device = torch.device('cuda' if torch.cuda.is_available() else 'cpu')\n",
    "\n",
    "model = GATNN(in_dim=1, hidden_size=32, out_dim=1)\n",
    "\n",
    "optimizer = torch.optim.Adam(model.parameters(), lr=1e-4, weight_decay=5e-4)\n",
    "\n",
    "temporal_adj = np.array([[0, 0, 0, 0],\n",
    "                [1, 0, 0, 0],\n",
    "                [0, 1, 0, 0],\n",
    "                [0, 0, 1, 0]])"
   ]
  },
  {
   "cell_type": "code",
   "execution_count": 5,
   "metadata": {},
   "outputs": [
    {
     "name": "stdout",
     "output_type": "stream",
     "text": [
      "Epoch: 1, Training Loss: 1.0575873851776123, Validation Loss: 1.132115364074707\n",
      "Epoch: 2, Training Loss: 1.0766334533691406, Validation Loss: 1.0312391519546509\n",
      "Epoch: 3, Training Loss: 1.0704065561294556, Validation Loss: 1.1095150709152222\n",
      "Epoch: 4, Training Loss: 1.058449625968933, Validation Loss: 1.0900557041168213\n",
      "Epoch: 5, Training Loss: 1.046744704246521, Validation Loss: 0.9586216807365417\n",
      "Epoch: 6, Training Loss: 1.1485084295272827, Validation Loss: 1.175473928451538\n",
      "Epoch: 7, Training Loss: 1.095755696296692, Validation Loss: 1.1147983074188232\n",
      "Epoch: 8, Training Loss: 1.169656753540039, Validation Loss: 1.1209092140197754\n",
      "Epoch: 9, Training Loss: 1.0996662378311157, Validation Loss: 1.078750729560852\n",
      "Epoch: 10, Training Loss: 1.0422900915145874, Validation Loss: 1.1028469800949097\n"
     ]
    }
   ],
   "source": [
    "\n",
    "# loop over the number of samples\n",
    "train_samples = data['trn']['data'].shape[0]\n",
    "val_samples = data['val']['data'].shape[0]\n",
    "train_losses = []\n",
    "val_losses = []\n",
    "\n",
    "patience = 5\n",
    "best_val_loss = float('inf')\n",
    "counter = 0\n",
    "flag = False\n",
    "\n",
    "for epoch in range(20):\n",
    "    total_loss = 0\n",
    "    for i in range(train_samples):\n",
    "        # Create a torch geometric data over each graph \n",
    "        outer_batch = Data(x = torch.tensor(data['trn']['data'][i]), y = torch.tensor(data['trn']['labels'][i].squeeze()),\n",
    "                        edge_index=edge_index, edge_weight = edge_weight) \n",
    "        \n",
    "        train_loader = GraphSAINTNodeSampler(outer_batch, batch_size=100, num_steps=6)\n",
    "        for inner_batch in train_loader:\n",
    "            model.train()\n",
    "            batch_loss = 0\n",
    "            batch_adj = to_dense_adj(inner_batch.edge_index, edge_attr=inner_batch.edge_weight).squeeze(dim = 0)\n",
    "            \n",
    "            batch_adj = batch_adj.numpy()\n",
    "            \n",
    "            product_graph = generate_parametric_product_graph(s00 = 0, s01 = 1, s10 = 1, s11 = 1, A_T = temporal_adj, A_N = batch_adj, spatial_graph = None)\n",
    "            product_edge_index, product_edge_weight = from_scipy_sparse_matrix(product_graph)\n",
    "            \n",
    "            \n",
    "            batch_x =inner_batch.x.reshape(inner_batch.x.shape[0]* inner_batch.x.shape[1], 1)\n",
    "            \n",
    "            batch_y = inner_batch.y.unsqueeze(dim = 1)\n",
    "            optimizer.zero_grad()\n",
    "            out = model(batch_x.float(), product_edge_index,product_edge_weight.float())\n",
    "            loss = criterion(out, batch_y.float())\n",
    "            batch_loss += loss\n",
    "        \n",
    "            loss.backward()\n",
    "            optimizer.step()\n",
    "            total_loss += batch_loss\n",
    "        \n",
    "    train_losses.append((total_loss/ (len(train_loader) * train_samples)).detach().numpy())\n",
    "    val_loss = 0\n",
    "    for i in range(val_samples):\n",
    "        model.eval()\n",
    "        # Create a torch geometric data over each graph \n",
    "        outer_batch = Data(x = torch.tensor(data['val']['data'][i]), y = torch.tensor(data['val']['labels'][i].squeeze()),\n",
    "                        edge_index=edge_index, edge_weight = edge_weight) \n",
    "        \n",
    "        val_loader = GraphSAINTNodeSampler(outer_batch, batch_size=200, num_steps=6)\n",
    "        for val_batch in val_loader:\n",
    "            with torch.no_grad():\n",
    "                batch_loss = 0\n",
    "                batch_adj = to_dense_adj(val_batch.edge_index, edge_attr=val_batch.edge_weight).squeeze(dim = 0)\n",
    "                \n",
    "                batch_adj = batch_adj.numpy()\n",
    "                \n",
    "                product_graph = generate_parametric_product_graph(s00 = 0, s01 = 1, s10 = 1, s11 = 1, A_T = temporal_adj, A_N = batch_adj, spatial_graph = None)\n",
    "                product_edge_index, product_edge_weight = from_scipy_sparse_matrix(product_graph)\n",
    "                \n",
    "                \n",
    "                batch_x =val_batch.x.reshape(val_batch.x.shape[0]* val_batch.x.shape[1], 1)\n",
    "                \n",
    "                batch_y = val_batch.y.unsqueeze(dim = 1)\n",
    "                out = model(batch_x.float(), product_edge_index,product_edge_weight.float())\n",
    "\n",
    "                batch_val_loss = criterion(out, batch_y.float())\n",
    "\n",
    "                val_loss += batch_val_loss\n",
    "                \n",
    "    val_losses.append(val_loss/(len(val_loader) * val_samples))\n",
    "    print(f'Epoch: {epoch+1}, Training Loss: {total_loss/ (len(train_loader) * train_samples)}, Validation Loss: {val_loss/(len(val_loader) * val_samples)}')\n",
    "    if val_loss < best_val_loss:\n",
    "        best_val_loss = val_loss\n",
    "        counter = 0\n",
    "    else:\n",
    "        counter += 1\n",
    "    if counter >= patience:\n",
    "        torch.save({\n",
    "            'epoch': epoch,\n",
    "            'model_state_dict': model.state_dict(),\n",
    "            'best_val_loss': best_val_loss,\n",
    "            'train_losses': train_losses,\n",
    "            'val_losses': val_losses,\n",
    "        }, f'model_epoch_{epoch}.pt')\n",
    "        flag = True\n",
    "        break\n",
    "    \n",
    "if flag == False:\n",
    "    torch.save({\n",
    "        'epoch': epoch,\n",
    "        'model_state_dict': model.state_dict(),\n",
    "        'best_val_loss': best_val_loss,\n",
    "        'train_losses': train_losses,\n",
    "        'val_losses': val_losses,\n",
    "    }, f'model_trained.pt')\n",
    "    \n",
    "        \n",
    "        \n"
   ]
  },
  {
   "cell_type": "code",
   "execution_count": 7,
   "metadata": {},
   "outputs": [
    {
     "data": {
      "image/png": "[encoded data removed]",
      "text/plain": [
       "<Figure size 500x500 with 1 Axes>"
      ]
     },
     "metadata": {},
     "output_type": "display_data"
    }
   ],
   "source": [
    "plt.figure(figsize = (5,5))\n",
    "plt.xlabel(\"Epochs\")\n",
    "plt.ylabel(\"loss function\")\n",
    "plt.plot(train_losses, label = \"train loss\")\n",
    "plt.plot(val_losses, label = \"validation loss\")\n",
    "plt.legend()\n",
    "plt.show()"
   ]
  },
  {
   "cell_type": "markdown",
   "metadata": {},
   "source": [
    "### Inference code"
   ]
  },
  {
   "cell_type": "markdown",
   "metadata": {},
   "source": [
    "##### Uncomment this code if you need to load your model"
   ]
  },
  {
   "cell_type": "code",
   "execution_count": 8,
   "metadata": {},
   "outputs": [],
   "source": [
    "# model = GATNN(in_dim=1, hidden_size=32, out_dim=1)\n",
    "# state_dict = torch.load('model_epoch_6.pth')\n",
    "# model.load_state_dict(state_dict)"
   ]
  },
  {
   "cell_type": "code",
   "execution_count": 15,
   "metadata": {},
   "outputs": [
    {
     "name": "stdout",
     "output_type": "stream",
     "text": [
      "Test Loss per Batch: 1.0221514701843262\n"
     ]
    }
   ],
   "source": [
    "test_loss = 0\n",
    "test_samples = data['tst']['data'].shape[0]\n",
    "predicted_samples = []\n",
    "true_samples = []\n",
    "for i in range(test_samples):\n",
    "    model.eval()\n",
    "    # Create a torch geometric data over each graph \n",
    "    outer_batch = Data(x = torch.tensor(data['val']['data'][i]), y = torch.tensor(data['val']['labels'][i].squeeze()),\n",
    "                    edge_index=edge_index, edge_weight = edge_weight) \n",
    "    \n",
    "    test_loader = GraphSAINTNodeSampler(outer_batch, batch_size=200, num_steps=6)\n",
    "    for test_batch in test_loader:\n",
    "        with torch.no_grad():\n",
    "            batch_loss = 0\n",
    "            batch_adj = to_dense_adj(test_batch.edge_index, edge_attr=test_batch.edge_weight).squeeze(dim = 0)\n",
    "            \n",
    "            batch_adj = batch_adj.numpy()\n",
    "            \n",
    "            product_graph = generate_parametric_product_graph(s00 = 0, s01 = 1, s10 = 1, s11 = 1, A_T = temporal_adj, A_N = batch_adj, spatial_graph = None)\n",
    "            product_edge_index, product_edge_weight = from_scipy_sparse_matrix(product_graph)\n",
    "            \n",
    "            \n",
    "            batch_x =test_batch.x.reshape(test_batch.x.shape[0]* test_batch.x.shape[1], 1)\n",
    "            \n",
    "            batch_y = test_batch.y.unsqueeze(dim = 1)\n",
    "            out = model(batch_x.float(), product_edge_index,product_edge_weight.float())\n",
    "\n",
    "            true_samples.extend(batch_y)\n",
    "            predicted_samples.extend(out)\n",
    "\n",
    "            #print(out.shape, batch_y.shape)\n",
    "\n",
    "            batch_test_loss = criterion(out, batch_y.float())\n",
    "\n",
    "            test_loss += batch_test_loss\n",
    "                \n",
    "print(f'Test Loss per Batch: {test_loss/(len(test_loader) * test_samples)}')"
   ]
  },
  {
   "cell_type": "code",
   "execution_count": 19,
   "metadata": {},
   "outputs": [
    {
     "name": "stdout",
     "output_type": "stream",
     "text": [
      "The r2 score value is: 0.0018338640242008264\n"
     ]
    }
   ],
   "source": [
    "print(f\"The r2 score value is: {r2_score(true_samples, predicted_samples)}\")"
   ]
  },
  {
   "cell_type": "code",
   "execution_count": 20,
   "metadata": {},
   "outputs": [
    {
     "name": "stdout",
     "output_type": "stream",
     "text": [
      "The mean absolute error is: 0.6216435240692016\n"
     ]
    }
   ],
   "source": [
    "print(f\"The mean absolute error is: {mean_absolute_error(true_samples, predicted_samples)}\")"
   ]
  },
  {
   "cell_type": "code",
   "execution_count": null,
   "metadata": {},
   "outputs": [],
   "source": []
  }
 ],
 "metadata": {
  "kernelspec": {
   "display_name": "Networks",
   "language": "python",
   "name": "python3"
  },
  "language_info": {
   "codemirror_mode": {
    "name": "ipython",
    "version": 3
   },
   "file_extension": ".py",
   "mimetype": "text/x-python",
   "name": "python",
   "nbconvert_exporter": "python",
   "pygments_lexer": "ipython3",
   "version": "3.12.3"
  }
 },
 "nbformat": 4,
 "nbformat_minor": 2
}
