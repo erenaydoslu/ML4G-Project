{
 "cells": [
  {
   "cell_type": "code",
   "execution_count": 48,
   "metadata": {},
   "outputs": [],
   "source": [
    "import json\n",
    "\n",
    "import pandas as pd\n",
    "import numpy as np\n",
    "import networkx as nx\n",
    "\n",
    "import torch\n",
    "from torch_geometric.nn import GATConv, GATv2Conv\n",
    "from torch_geometric.data import Data\n",
    "from torch_geometric.datasets import Planetoid\n",
    "from torch_geometric.loader import GraphSAINTRandomWalkSampler, GraphSAINTNodeSampler\n",
    "from matplotlib import pyplot as plt\n",
    "import numpy as np\n",
    "from train_utils import *\n",
    "from product_graph import *\n",
    "from torch_geometric.data import HeteroData\n",
    "from tqdm import tqdm\n",
    "from torch_geometric.utils import to_dense_adj\n",
    "from torch.nn import MSELoss\n",
    "from product_graph import generate_parametric_product_graph\n",
    "import networkx as nx\n",
    "from torch_geometric.utils import from_networkx\n",
    "import torch.nn.functional as F"
   ]
  },
  {
   "cell_type": "code",
   "execution_count": 111,
   "metadata": {},
   "outputs": [],
   "source": [
    "class GATv3Conv(torch.nn.Module):\n",
    "    def __init__(self, in_channels, out_channels, concat = True, heads=1, dropout = 0.5) -> None:\n",
    "        super().__init__()\n",
    "        self.beta = torch.nn.Parameter(torch.tensor(0.5))\n",
    "        self.conv = GATv2Conv(in_channels, out_channels, heads, concat,add_self_loops=False)\n",
    "\n",
    "    def forward(self, x, edge_index, edge_weights):\n",
    "        H, C = self.conv.heads, self.conv.out_channels\n",
    "\n",
    "        if isinstance(x, torch.Tensor):\n",
    "            assert x.dim() == 2\n",
    "            x_l = self.conv.lin_l(x).view(-1, H, C)\n",
    "            if self.conv.share_weights:\n",
    "                x_r = x_l\n",
    "            else:\n",
    "                x_r = self.conv.lin_r(x).view(-1, H, C)\n",
    "        else:\n",
    "            raise TypeError(\"x must be a Tensor\")\n",
    "\n",
    "        assert x_l is not None\n",
    "        assert x_r is not None\n",
    "\n",
    "        # edge_updater_type: (x: PairTensor, edge_attr: OptTensor)\n",
    "        alpha = self.conv.edge_updater(edge_index, x=(x_l, x_r), edge_attr=None)\n",
    "        \n",
    "        \n",
    "        \n",
    "        alpha = (1-self.beta) * alpha + self.beta * edge_weights.view(edge_weights.shape[0],1)\n",
    "        # propagate_type: (x: PairTensor, alpha: Tensor)\n",
    "        out = self.conv.propagate(edge_index, x=(x_l, x_r), alpha=alpha)\n",
    "\n",
    "        if self.conv.concat:\n",
    "            out = out.view(-1, self.conv.heads * self.conv.out_channels)\n",
    "        else:\n",
    "            out = out.mean(dim=1)\n",
    "\n",
    "        if self.conv.bias is not None:\n",
    "            out = out + self.conv.bias\n",
    "\n",
    "        return out\n",
    "    \n",
    "\n",
    "class GATNN(torch.nn.Module):\n",
    "    def __init__(self, hidden_size, in_dim, out_dim,in_head = 8,out_head = 1) -> None:\n",
    "        super().__init__()\n",
    "        self.hid = hidden_size\n",
    "        self.in_head = in_head\n",
    "        self.out_head = out_head\n",
    "        \n",
    "        \n",
    "        self.conv1 = GATv3Conv(in_dim, self.hid, heads=self.in_head, dropout=0.6)\n",
    "        self.conv2 = GATv3Conv(self.hid*self.in_head, out_dim, concat=False,\n",
    "                             heads=self.out_head, dropout=0.6)\n",
    "\n",
    "    def forward(self, x, edge_index, edge_weight):\n",
    "        x = self.conv1(x, edge_index, edge_weight)\n",
    "        x = F.elu(x)\n",
    "        x = F.dropout(x, p=0.6, training=self.training)\n",
    "        x = self.conv2(x, edge_index, edge_weight)\n",
    "        #out = F.log_softmax(x, dim=1)\n",
    "        return x"
   ]
  },
  {
   "cell_type": "code",
   "execution_count": 26,
   "metadata": {},
   "outputs": [
    {
     "name": "stderr",
     "output_type": "stream",
     "text": [
      "/var/folders/k7/vcjbn_bd7wdb2g9h92g_pkj80000gn/T/ipykernel_85761/1233144186.py:8: UserWarning: To copy construct from a tensor, it is recommended to use sourceTensor.clone().detach() or sourceTensor.clone().detach().requires_grad_(True), rather than torch.tensor(sourceTensor).\n",
      "  edge_index = torch.nonzero(torch.tensor(S), as_tuple=False).t().contiguous()\n"
     ]
    }
   ],
   "source": [
    "import pandas as pd\n",
    "dynamic_data = torch.tensor(np.load(\"data/preprocessed/dynamic_data.npy\", allow_pickle=True))\n",
    "S = torch.tensor(np.load(\"data/adjacency/coords_features.npy\", allow_pickle=False))\n",
    "\n",
    "\n",
    "calendar_df = pd.read_csv('data/preprocessed/calendar.csv')\n",
    "data = Data(x = dynamic_data)\n",
    "edge_index = torch.nonzero(torch.tensor(S), as_tuple=False).t().contiguous()\n",
    "edge_weight = S[edge_index[0], edge_index[1]]\n",
    "data.edge_index = edge_index\n",
    "data.edge_weight = edge_weight"
   ]
  },
  {
   "cell_type": "code",
   "execution_count": 44,
   "metadata": {},
   "outputs": [
    {
     "name": "stdout",
     "output_type": "stream",
     "text": [
      "torch.Size([2628, 279])\n"
     ]
    }
   ],
   "source": [
    "print(dynamic_data.shape)"
   ]
  },
  {
   "cell_type": "code",
   "execution_count": 112,
   "metadata": {},
   "outputs": [],
   "source": [
    "criterion = MSELoss()\n",
    "device = torch.device('cuda' if torch.cuda.is_available() else 'cpu')\n",
    "\n",
    "model = GATNN(hidden_size=8, in_dim = 1, out_dim = 1).to(device)\n",
    "\n",
    "loader = GraphSAINTNodeSampler (\n",
    "    data,\n",
    "    batch_size=200,\n",
    "    num_steps=6,\n",
    ")\n",
    "optimizer = torch.optim.Adam(model.parameters(), lr=0.005, weight_decay=5e-4)\n",
    "\n",
    "temporal_adj = np.array([[0, 0, 0, 0],\n",
    "                [1, 0, 0, 0],\n",
    "                [0, 1, 0, 0],\n",
    "                [0, 0, 1, 0]])\n",
    "\n"
   ]
  },
  {
   "cell_type": "code",
   "execution_count": 92,
   "metadata": {},
   "outputs": [
    {
     "name": "stdout",
     "output_type": "stream",
     "text": [
      "<class 'scipy.sparse._csr.csr_array'>\n"
     ]
    }
   ],
   "source": [
    "from torch_geometric.utils import from_scipy_sparse_matrix\n",
    "\n",
    "product_graph = generate_parametric_product_graph(s00 = 0, s01 = 1, s10 = 1, s11 = 1, A_T = temporal_adj, A_N = S.numpy())\n",
    "print(type(product_graph))\n",
    "param_edge_idx, param_edge_weight = from_scipy_sparse_matrix(product_graph)\n",
    "\n"
   ]
  },
  {
   "cell_type": "code",
   "execution_count": 115,
   "metadata": {},
   "outputs": [
    {
     "name": "stdout",
     "output_type": "stream",
     "text": [
      "torch.Size([275, 193, 4])\n",
      "torch.Size([275, 772, 1])\n",
      "out shape: torch.Size([772, 1]) \n",
      " y shape torch.Size([193])\n",
      "out shape: torch.Size([772, 1]) \n",
      " y shape torch.Size([193])\n",
      "out shape: torch.Size([772, 1]) \n",
      " y shape torch.Size([193])\n"
     ]
    },
    {
     "ename": "KeyboardInterrupt",
     "evalue": "",
     "output_type": "error",
     "traceback": [
      "\u001b[0;31m---------------------------------------------------------------------------\u001b[0m",
      "\u001b[0;31mKeyboardInterrupt\u001b[0m                         Traceback (most recent call last)",
      "Cell \u001b[0;32mIn[115], line 37\u001b[0m\n\u001b[1;32m     34\u001b[0m     loss \u001b[38;5;241m=\u001b[39m criterion(out, batch_y[i]\u001b[38;5;241m.\u001b[39mfloat())\n\u001b[1;32m     35\u001b[0m     batch_loss \u001b[38;5;241m+\u001b[39m\u001b[38;5;241m=\u001b[39m loss\n\u001b[0;32m---> 37\u001b[0m     \u001b[43mloss\u001b[49m\u001b[38;5;241;43m.\u001b[39;49m\u001b[43mbackward\u001b[49m\u001b[43m(\u001b[49m\u001b[43m)\u001b[49m\n\u001b[1;32m     38\u001b[0m     optimizer\u001b[38;5;241m.\u001b[39mstep()\n\u001b[1;32m     40\u001b[0m total_loss \u001b[38;5;241m+\u001b[39m\u001b[38;5;241m=\u001b[39m batch_loss\n",
      "File \u001b[0;32m/opt/anaconda3/envs/ml4g/lib/python3.11/site-packages/torch/_tensor.py:492\u001b[0m, in \u001b[0;36mTensor.backward\u001b[0;34m(self, gradient, retain_graph, create_graph, inputs)\u001b[0m\n\u001b[1;32m    482\u001b[0m \u001b[38;5;28;01mif\u001b[39;00m has_torch_function_unary(\u001b[38;5;28mself\u001b[39m):\n\u001b[1;32m    483\u001b[0m     \u001b[38;5;28;01mreturn\u001b[39;00m handle_torch_function(\n\u001b[1;32m    484\u001b[0m         Tensor\u001b[38;5;241m.\u001b[39mbackward,\n\u001b[1;32m    485\u001b[0m         (\u001b[38;5;28mself\u001b[39m,),\n\u001b[0;32m   (...)\u001b[0m\n\u001b[1;32m    490\u001b[0m         inputs\u001b[38;5;241m=\u001b[39minputs,\n\u001b[1;32m    491\u001b[0m     )\n\u001b[0;32m--> 492\u001b[0m \u001b[43mtorch\u001b[49m\u001b[38;5;241;43m.\u001b[39;49m\u001b[43mautograd\u001b[49m\u001b[38;5;241;43m.\u001b[39;49m\u001b[43mbackward\u001b[49m\u001b[43m(\u001b[49m\n\u001b[1;32m    493\u001b[0m \u001b[43m    \u001b[49m\u001b[38;5;28;43mself\u001b[39;49m\u001b[43m,\u001b[49m\u001b[43m \u001b[49m\u001b[43mgradient\u001b[49m\u001b[43m,\u001b[49m\u001b[43m \u001b[49m\u001b[43mretain_graph\u001b[49m\u001b[43m,\u001b[49m\u001b[43m \u001b[49m\u001b[43mcreate_graph\u001b[49m\u001b[43m,\u001b[49m\u001b[43m \u001b[49m\u001b[43minputs\u001b[49m\u001b[38;5;241;43m=\u001b[39;49m\u001b[43minputs\u001b[49m\n\u001b[1;32m    494\u001b[0m \u001b[43m\u001b[49m\u001b[43m)\u001b[49m\n",
      "File \u001b[0;32m/opt/anaconda3/envs/ml4g/lib/python3.11/site-packages/torch/autograd/__init__.py:251\u001b[0m, in \u001b[0;36mbackward\u001b[0;34m(tensors, grad_tensors, retain_graph, create_graph, grad_variables, inputs)\u001b[0m\n\u001b[1;32m    246\u001b[0m     retain_graph \u001b[38;5;241m=\u001b[39m create_graph\n\u001b[1;32m    248\u001b[0m \u001b[38;5;66;03m# The reason we repeat the same comment below is that\u001b[39;00m\n\u001b[1;32m    249\u001b[0m \u001b[38;5;66;03m# some Python versions print out the first line of a multi-line function\u001b[39;00m\n\u001b[1;32m    250\u001b[0m \u001b[38;5;66;03m# calls in the traceback and some print out the last line\u001b[39;00m\n\u001b[0;32m--> 251\u001b[0m \u001b[43mVariable\u001b[49m\u001b[38;5;241;43m.\u001b[39;49m\u001b[43m_execution_engine\u001b[49m\u001b[38;5;241;43m.\u001b[39;49m\u001b[43mrun_backward\u001b[49m\u001b[43m(\u001b[49m\u001b[43m  \u001b[49m\u001b[38;5;66;43;03m# Calls into the C++ engine to run the backward pass\u001b[39;49;00m\n\u001b[1;32m    252\u001b[0m \u001b[43m    \u001b[49m\u001b[43mtensors\u001b[49m\u001b[43m,\u001b[49m\n\u001b[1;32m    253\u001b[0m \u001b[43m    \u001b[49m\u001b[43mgrad_tensors_\u001b[49m\u001b[43m,\u001b[49m\n\u001b[1;32m    254\u001b[0m \u001b[43m    \u001b[49m\u001b[43mretain_graph\u001b[49m\u001b[43m,\u001b[49m\n\u001b[1;32m    255\u001b[0m \u001b[43m    \u001b[49m\u001b[43mcreate_graph\u001b[49m\u001b[43m,\u001b[49m\n\u001b[1;32m    256\u001b[0m \u001b[43m    \u001b[49m\u001b[43minputs\u001b[49m\u001b[43m,\u001b[49m\n\u001b[1;32m    257\u001b[0m \u001b[43m    \u001b[49m\u001b[43mallow_unreachable\u001b[49m\u001b[38;5;241;43m=\u001b[39;49m\u001b[38;5;28;43;01mTrue\u001b[39;49;00m\u001b[43m,\u001b[49m\n\u001b[1;32m    258\u001b[0m \u001b[43m    \u001b[49m\u001b[43maccumulate_grad\u001b[49m\u001b[38;5;241;43m=\u001b[39;49m\u001b[38;5;28;43;01mTrue\u001b[39;49;00m\u001b[43m,\u001b[49m\n\u001b[1;32m    259\u001b[0m \u001b[43m\u001b[49m\u001b[43m)\u001b[49m\n",
      "\u001b[0;31mKeyboardInterrupt\u001b[0m: "
     ]
    }
   ],
   "source": [
    "train_loss = []\n",
    "for epoch in range(20):\n",
    "    model.train()\n",
    "    total_loss = 0\n",
    "    for i, batch in enumerate(loader):\n",
    "        batch_loss = 0\n",
    "        dataset = create_forecasting_dataset(batch.x.T,\n",
    "                                        splits = None,\n",
    "                                        pred_horizen= 1,\n",
    "                                        obs_window= 4,\n",
    "                                        verbose = 0)\n",
    "        batch_sample = Data(x = torch.tensor(dataset['trn']['data']), y = torch.tensor(dataset['trn']['labels']), \n",
    "                            edge_index= batch.edge_index, edge_weight = batch.edge_weight)\n",
    "\n",
    "\n",
    "        batch_adj = to_dense_adj(batch_sample.edge_index, edge_attr=batch_sample.edge_weight).squeeze(dim = 0)\n",
    "        \n",
    "\n",
    "        batch_adj = batch_adj.numpy()\n",
    "        \n",
    "        product_graph = generate_parametric_product_graph(s00 = 0, s01 = 1, s10 = 1, s11 = 1, A_T = temporal_adj, A_N = batch_adj, spatial_graph = nx.from_numpy_array(batch_adj))\n",
    "        product_edge_index, product_edge_weight = from_scipy_sparse_matrix(product_graph)\n",
    "        \n",
    "        print(batch_sample.x.shape)\n",
    "        batch_x =batch_sample.x.reshape(batch_sample.x.shape[0], batch_sample.x.shape[1]* batch_sample.x.shape[2], 1)\n",
    "        print(batch_x.shape)\n",
    "        batch_y = batch_sample.y.reshape(batch_sample.y.shape[0], batch_sample.y.shape[1])\n",
    "        \n",
    "        for i in range(batch_sample.x.shape[0]):\n",
    "            \n",
    "            optimizer.zero_grad()\n",
    "            out = model(batch_x[i].float(), product_edge_index,product_edge_weight.float())\n",
    "            print(f'out shape: {out.shape} \\n y shape {batch_y[i].shape}')\n",
    "            loss = criterion(out, batch_y[i].float())\n",
    "            batch_loss += loss\n",
    "        \n",
    "            loss.backward()\n",
    "            optimizer.step()\n",
    "            \n",
    "        total_loss += batch_loss\n",
    "        print(f'Epoch: {epoch} Batch Loss: {batch_loss}')\n",
    "    train_loss.append(total_loss)"
   ]
  },
  {
   "cell_type": "code",
   "execution_count": 114,
   "metadata": {},
   "outputs": [
    {
     "name": "stdout",
     "output_type": "stream",
     "text": [
      "tensor([[ 2.2100e-01],\n",
      "        [ 1.3513e+03],\n",
      "        [ 5.9633e+02],\n",
      "        [ 7.5958e+02],\n",
      "        [ 4.6309e+02],\n",
      "        [ 1.1660e+03],\n",
      "        [ 1.0380e+03],\n",
      "        [ 7.7342e+02],\n",
      "        [-7.0580e+01],\n",
      "        [ 2.1796e+02]], grad_fn=<SliceBackward0>)\n",
      "tensor([125, 300, 129,  80, 295,  60, 199,  81, 225,  85, 299,  80,  36,  99,\n",
      "         50, 167, 289, 469,  80, 200, 354, 295, 228, 299, 140, 150, 125, 125,\n",
      "        139, 225, 199, 249, 145, 100, 450, 300, 170, 137, 116, 150, 600, 149,\n",
      "        197, 260, 200, 155, 155,  99, 139, 228, 199, 129, 155, 220, 110, 251,\n",
      "        199, 160, 150, 195, 228, 231, 150, 279, 135, 189, 225, 200, 300, 265,\n",
      "        299, 207, 305, 189, 186, 150, 199, 255, 130, 169, 139, 266, 225,  90,\n",
      "        224, 194, 300,  60,  82,  78, 100, 200, 249, 149, 200, 457, 571, 177,\n",
      "        150, 199, 275, 129, 179, 175, 242, 157, 160, 159, 299, 165, 115, 139,\n",
      "        230, 499, 179, 690, 537, 150, 259, 375,  91, 259, 199, 139, 250, 185,\n",
      "        239, 329, 231, 231, 125, 179, 109, 329, 289, 457,  70, 449, 310, 199,\n",
      "        228, 329, 457, 228,  87, 228, 150, 120, 100, 113,  92,  60, 112,  75,\n",
      "         75,  75,  65,  99, 109,  35,  52,  75, 160, 165,  65,  36, 340, 180,\n",
      "        457, 209, 215, 419, 180, 199, 250, 100, 100, 180, 140, 195,  85,  29,\n",
      "         79,  99, 999, 115,  29, 279, 158,  90, 179,  69,  70],\n",
      "       dtype=torch.int32)\n"
     ]
    }
   ],
   "source": [
    "print(out[:10])\n",
    "print(batch_y[0])"
   ]
  },
  {
   "cell_type": "code",
   "execution_count": 76,
   "metadata": {},
   "outputs": [
    {
     "name": "stdout",
     "output_type": "stream",
     "text": [
      "193.0\n"
     ]
    }
   ],
   "source": [
    "print(out.shape[0]/ 4)"
   ]
  },
  {
   "cell_type": "code",
   "execution_count": null,
   "metadata": {},
   "outputs": [],
   "source": [
    "model.eval()\n",
    "_, pred = model(x_test).max(dim=1)\n",
    "correct = float(pred.eq(y_test).sum().item())\n",
    "acc = correct / x_test.sum().item()\n",
    "print('Accuracy: {:.4f}'.format(acc))"
   ]
  },
  {
   "cell_type": "code",
   "execution_count": 201,
   "metadata": {},
   "outputs": [
    {
     "data": {
      "text/plain": [
       "tensor([[-5.4292],\n",
       "        [-0.9369],\n",
       "        [-4.6689],\n",
       "        [-0.5501]], grad_fn=<AddBackward0>)"
      ]
     },
     "execution_count": 201,
     "metadata": {},
     "output_type": "execute_result"
    }
   ],
   "source": [
    "x = torch.tensor([[100], \n",
    "                  [1],\n",
    "                  [2],\n",
    "                  [3]]).float()\n",
    "\n",
    "edge_index = torch.tensor([[0, 1, 1, 2, 3, 2], \n",
    "                           [1, 0, 2, 1, 2, 3]])\n",
    "\n",
    "edge_weights = torch.tensor([[0.3],\n",
    "                             [0.3],\n",
    "                             [0.9],\n",
    "                             [0.9],\n",
    "                             [0.1],\n",
    "                             [0.1]])\n",
    "\n",
    "gat_net(x, edge_index, edge_weights)"
   ]
  }
 ],
 "metadata": {
  "kernelspec": {
   "display_name": "Networks",
   "language": "python",
   "name": "python3"
  },
  "language_info": {
   "codemirror_mode": {
    "name": "ipython",
    "version": 3
   },
   "file_extension": ".py",
   "mimetype": "text/x-python",
   "name": "python",
   "nbconvert_exporter": "python",
   "pygments_lexer": "ipython3",
   "version": "3.11.8"
  }
 },
 "nbformat": 4,
 "nbformat_minor": 2
}
