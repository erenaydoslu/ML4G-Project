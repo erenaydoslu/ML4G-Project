{
 "cells": [
  {
   "cell_type": "code",
   "execution_count": 1,
   "metadata": {},
   "outputs": [],
   "source": [
    "import json\n",
    "\n",
    "import pandas as pd\n",
    "import numpy as np\n",
    "import networkx as nx\n",
    "\n",
    "import torch\n",
    "from torch_geometric.nn import GATConv, GATv2Conv\n",
    "from torch_geometric.data import Data\n",
    "from torch_geometric.datasets import Planetoid\n",
    "from torch_geometric.loader import GraphSAINTRandomWalkSampler, GraphSAINTNodeSampler\n",
    "from matplotlib import pyplot as plt\n",
    "import numpy as np\n",
    "from train_utils import *\n",
    "from product_graph import *\n",
    "from torch_geometric.data import HeteroData\n",
    "from tqdm import tqdm\n",
    "from torch_geometric.utils import to_dense_adj\n",
    "from torch.nn import MSELoss\n",
    "from product_graph import generate_parametric_product_graph\n",
    "import networkx as nx\n",
    "from torch_geometric.utils import from_networkx"
   ]
  },
  {
   "cell_type": "code",
   "execution_count": 2,
   "metadata": {},
   "outputs": [],
   "source": [
    "class GATv3Conv(torch.nn.Module):\n",
    "    def __init__(self, in_channels, out_channels,concat = True, heads=1, dropout = 0.5) -> None:\n",
    "        super().__init__()\n",
    "        self.beta = torch.nn.Parameter(torch.tensor(0.5))\n",
    "        self.conv = GATv2Conv(in_channels, out_channels, heads, concat,add_self_loops=False)\n",
    "\n",
    "    def forward(self, x, edge_index, edge_weights):\n",
    "        H, C = self.conv.heads, self.conv.out_channels\n",
    "\n",
    "        if isinstance(x, torch.Tensor):\n",
    "            assert x.dim() == 2\n",
    "            x_l = self.conv.lin_l(x).view(-1, H, C)\n",
    "            if self.conv.share_weights:\n",
    "                x_r = x_l\n",
    "            else:\n",
    "                x_r = self.conv.lin_r(x).view(-1, H, C)\n",
    "        else:\n",
    "            raise TypeError(\"x must be a Tensor\")\n",
    "\n",
    "        assert x_l is not None\n",
    "        assert x_r is not None\n",
    "\n",
    "        # edge_updater_type: (x: PairTensor, edge_attr: OptTensor)\n",
    "        alpha = self.conv.edge_updater(edge_index, x=(x_l, x_r), edge_attr=None)\n",
    "\n",
    "        alpha = (1-self.beta) * alpha + self.beta * edge_weights\n",
    "\n",
    "        # propagate_type: (x: PairTensor, alpha: Tensor)\n",
    "        out = self.conv.propagate(edge_index, x=(x_l, x_r), alpha=alpha)\n",
    "\n",
    "        if self.conv.concat:\n",
    "            out = out.view(-1, self.conv.heads * self.conv.out_channels)\n",
    "        else:\n",
    "            out = out.mean(dim=1)\n",
    "\n",
    "        if self.conv.bias is not None:\n",
    "            out = out + self.conv.bias\n",
    "\n",
    "        return out\n",
    "    \n",
    "\n",
    "class GATNN(torch.nn.Module):\n",
    "    def __init__(self, hidden_size, in_dim, out_dim,in_head = 8,out_head = 1) -> None:\n",
    "        super().__init__()\n",
    "        self.hid = hidden_size\n",
    "        self.in_head = in_head\n",
    "        self.out_head = out_head\n",
    "        \n",
    "        \n",
    "        self.conv1 = GATv3Conv(in_dim, self.hid, heads=self.in_head, dropout=0.6)\n",
    "        self.conv2 = GATv3Conv(self.hid*self.in_head, out_dim, concat=False,\n",
    "                             heads=self.out_head, dropout=0.6)\n",
    "\n",
    "    def forward(self, x, edge_index, edge_weight):\n",
    "        x = self.conv1(x, edge_index, edge_weight)\n",
    "        x = self.conv2(x, edge_index, edge_weight)\n",
    "        return x"
   ]
  },
  {
   "cell_type": "code",
   "execution_count": 3,
   "metadata": {},
   "outputs": [
    {
     "name": "stderr",
     "output_type": "stream",
     "text": [
      "/var/folders/k7/vcjbn_bd7wdb2g9h92g_pkj80000gn/T/ipykernel_78384/1233144186.py:8: UserWarning: To copy construct from a tensor, it is recommended to use sourceTensor.clone().detach() or sourceTensor.clone().detach().requires_grad_(True), rather than torch.tensor(sourceTensor).\n",
      "  edge_index = torch.nonzero(torch.tensor(S), as_tuple=False).t().contiguous()\n"
     ]
    }
   ],
   "source": [
    "import pandas as pd\n",
    "dynamic_data = torch.tensor(np.load(\"data/preprocessed/dynamic_data.npy\", allow_pickle=True))\n",
    "S = torch.tensor(np.load(\"data/adjacency/coords_features.npy\", allow_pickle=False))\n",
    "\n",
    "\n",
    "calendar_df = pd.read_csv('data/preprocessed/calendar.csv')\n",
    "data = Data(x = dynamic_data)\n",
    "edge_index = torch.nonzero(torch.tensor(S), as_tuple=False).t().contiguous()\n",
    "edge_weight = S[edge_index[0], edge_index[1]]\n",
    "data.edge_index = edge_index\n",
    "data.edge_weight = edge_weight"
   ]
  },
  {
   "cell_type": "code",
   "execution_count": 4,
   "metadata": {},
   "outputs": [
    {
     "name": "stdout",
     "output_type": "stream",
     "text": [
      "torch.Size([2628, 279])\n"
     ]
    }
   ],
   "source": [
    "print(dynamic_data.shape)"
   ]
  },
  {
   "cell_type": "code",
   "execution_count": 5,
   "metadata": {},
   "outputs": [],
   "source": [
    "criterion = MSELoss()\n",
    "device = torch.device('cuda' if torch.cuda.is_available() else 'cpu')\n",
    "\n",
    "model = GATNN(hidden_size=8, in_dim = 4, out_dim = dynamic_data.shape[1]).to(device)\n",
    "\n",
    "loader = GraphSAINTNodeSampler (\n",
    "    data,\n",
    "    batch_size=200,\n",
    "    num_steps=6,\n",
    ")\n",
    "optimizer = torch.optim.Adam(model.parameters(), lr=0.005, weight_decay=5e-4)\n",
    "\n",
    "temporal_adj = np.array([[0, 0, 0, 0],\n",
    "                [1, 0, 0, 0],\n",
    "                [0, 1, 0, 0],\n",
    "                [0, 0, 1, 0]])\n",
    "\n"
   ]
  },
  {
   "cell_type": "code",
   "execution_count": 19,
   "metadata": {},
   "outputs": [
    {
     "ename": "KeyboardInterrupt",
     "evalue": "",
     "output_type": "error",
     "traceback": [
      "\u001b[0;31m---------------------------------------------------------------------------\u001b[0m",
      "\u001b[0;31mKeyboardInterrupt\u001b[0m                         Traceback (most recent call last)",
      "Cell \u001b[0;32mIn[19], line 2\u001b[0m\n\u001b[1;32m      1\u001b[0m product_graph \u001b[38;5;241m=\u001b[39m generate_parametric_product_graph(s00 \u001b[38;5;241m=\u001b[39m \u001b[38;5;241m0\u001b[39m, s01 \u001b[38;5;241m=\u001b[39m \u001b[38;5;241m1\u001b[39m, s10 \u001b[38;5;241m=\u001b[39m \u001b[38;5;241m1\u001b[39m, s11 \u001b[38;5;241m=\u001b[39m \u001b[38;5;241m1\u001b[39m, A_T \u001b[38;5;241m=\u001b[39m temporal_adj, A_N \u001b[38;5;241m=\u001b[39m S\u001b[38;5;241m.\u001b[39mnumpy(), spatial_graph \u001b[38;5;241m=\u001b[39m nx\u001b[38;5;241m.\u001b[39mfrom_numpy_array(S\u001b[38;5;241m.\u001b[39mnumpy()))\n\u001b[0;32m----> 2\u001b[0m product_data \u001b[38;5;241m=\u001b[39m \u001b[43mfrom_networkx\u001b[49m\u001b[43m(\u001b[49m\u001b[43mproduct_graph\u001b[49m\u001b[43m)\u001b[49m\n",
      "File \u001b[0;32m/opt/anaconda3/envs/ml4g/lib/python3.11/site-packages/torch_geometric/utils/convert.py:235\u001b[0m, in \u001b[0;36mfrom_networkx\u001b[0;34m(G, group_node_attrs, group_edge_attrs)\u001b[0m\n\u001b[1;32m    233\u001b[0m \u001b[38;5;28;01mfor\u001b[39;00m i, (src, dst) \u001b[38;5;129;01min\u001b[39;00m \u001b[38;5;28menumerate\u001b[39m(G\u001b[38;5;241m.\u001b[39medges()):\n\u001b[1;32m    234\u001b[0m     edge_index[\u001b[38;5;241m0\u001b[39m, i] \u001b[38;5;241m=\u001b[39m mapping[src]\n\u001b[0;32m--> 235\u001b[0m     edge_index[\u001b[38;5;241m1\u001b[39m, i] \u001b[38;5;241m=\u001b[39m mapping[dst]\n\u001b[1;32m    237\u001b[0m data_dict: Dict[\u001b[38;5;28mstr\u001b[39m, Any] \u001b[38;5;241m=\u001b[39m defaultdict(\u001b[38;5;28mlist\u001b[39m)\n\u001b[1;32m    238\u001b[0m data_dict[\u001b[38;5;124m'\u001b[39m\u001b[38;5;124medge_index\u001b[39m\u001b[38;5;124m'\u001b[39m] \u001b[38;5;241m=\u001b[39m edge_index\n",
      "\u001b[0;31mKeyboardInterrupt\u001b[0m: "
     ]
    }
   ],
   "source": [
    "product_graph = generate_parametric_product_graph(s00 = 0, s01 = 1, s10 = 1, s11 = 1, A_T = temporal_adj, A_N = S.numpy(), spatial_graph = nx.from_numpy_array(S.numpy()))\n",
    "product_data = from_networkx(product_graph)"
   ]
  },
  {
   "cell_type": "code",
   "execution_count": null,
   "metadata": {},
   "outputs": [
    {
     "ename": "AttributeError",
     "evalue": "'Graph' object has no attribute 'shape'",
     "output_type": "error",
     "traceback": [
      "\u001b[0;31m---------------------------------------------------------------------------\u001b[0m",
      "\u001b[0;31mAttributeError\u001b[0m                            Traceback (most recent call last)",
      "Cell \u001b[0;32mIn[17], line 20\u001b[0m\n\u001b[1;32m     17\u001b[0m batch_adj \u001b[38;5;241m=\u001b[39m batch_adj\u001b[38;5;241m.\u001b[39mnumpy()\n\u001b[1;32m     19\u001b[0m product_graph \u001b[38;5;241m=\u001b[39m generate_parametric_product_graph(s00 \u001b[38;5;241m=\u001b[39m \u001b[38;5;241m0\u001b[39m, s01 \u001b[38;5;241m=\u001b[39m \u001b[38;5;241m1\u001b[39m, s10 \u001b[38;5;241m=\u001b[39m \u001b[38;5;241m1\u001b[39m, s11 \u001b[38;5;241m=\u001b[39m \u001b[38;5;241m1\u001b[39m, A_T \u001b[38;5;241m=\u001b[39m temporal_adj, A_N \u001b[38;5;241m=\u001b[39m batch_adj, spatial_graph \u001b[38;5;241m=\u001b[39m nx\u001b[38;5;241m.\u001b[39mfrom_numpy_array(batch_adj))\n\u001b[0;32m---> 20\u001b[0m \u001b[38;5;28mprint\u001b[39m(\u001b[43mproduct_graph\u001b[49m\u001b[38;5;241;43m.\u001b[39;49m\u001b[43mshape\u001b[49m)\n\u001b[1;32m     21\u001b[0m product_data \u001b[38;5;241m=\u001b[39m from_networkx(product_graph)\n\u001b[1;32m     22\u001b[0m \u001b[38;5;28;01mfor\u001b[39;00m i \u001b[38;5;129;01min\u001b[39;00m \u001b[38;5;28mrange\u001b[39m(batch_sample\u001b[38;5;241m.\u001b[39mx\u001b[38;5;241m.\u001b[39mshape[\u001b[38;5;241m0\u001b[39m]):\n",
      "\u001b[0;31mAttributeError\u001b[0m: 'Graph' object has no attribute 'shape'"
     ]
    }
   ],
   "source": [
    "train_loss = []\n",
    "for epoch in range(20):\n",
    "    model.train()\n",
    "    total_loss = 0\n",
    "    for i, batch in enumerate(loader):\n",
    "        batch_loss = 0\n",
    "        dataset = create_forecasting_dataset(batch.x.T,\n",
    "                                        splits = None,\n",
    "                                        pred_horizen= 1,\n",
    "                                        obs_window= 4,\n",
    "                                        verbose = 0)\n",
    "        batch_sample = Data(x = torch.tensor(dataset['trn']['data']), y = torch.tensor(dataset['trn']['labels']), \n",
    "                            edge_index= batch.edge_index, edge_weight = batch.edge_weight)\n",
    "\n",
    "        batch_adj = to_dense_adj(batch_sample.edge_index, edge_attr=batch_sample.edge_weight).squeeze(dim = 0)\n",
    "\n",
    "        batch_adj = batch_adj.numpy()\n",
    "        \n",
    "        product_graph = generate_parametric_product_graph(s00 = 0, s01 = 1, s10 = 1, s11 = 1, A_T = temporal_adj, A_N = batch_adj, spatial_graph = nx.from_numpy_array(batch_adj))\n",
    "        product_data = from_networkx(product_graph)\n",
    "        for i in range(batch_sample.x.shape[0]):\n",
    "        \n",
    "            optimizer.zero_grad()\n",
    "            out = model(batch_sample.x[i].float(), product_data.edge_index,product_data.edge_weight)\n",
    "            loss = criterion(out, batch_sample.y[i].float())\n",
    "            batch_loss += loss\n",
    "            \n",
    "            if epoch%10 == 0:\n",
    "                print(f'Epoch: {epoch} Loss: {loss}')\n",
    "        \n",
    "            loss.backward()\n",
    "            optimizer.step()\n",
    "            \n",
    "        total_loss += batch_loss\n",
    "    train_loss.append(total_loss)"
   ]
  },
  {
   "cell_type": "code",
   "execution_count": null,
   "metadata": {},
   "outputs": [],
   "source": [
    "model.eval()\n",
    "_, pred = model(x_test).max(dim=1)\n",
    "correct = float(pred.eq(y_test).sum().item())\n",
    "acc = correct / x_test.sum().item()\n",
    "print('Accuracy: {:.4f}'.format(acc))"
   ]
  },
  {
   "cell_type": "code",
   "execution_count": 201,
   "metadata": {},
   "outputs": [
    {
     "data": {
      "text/plain": [
       "tensor([[-5.4292],\n",
       "        [-0.9369],\n",
       "        [-4.6689],\n",
       "        [-0.5501]], grad_fn=<AddBackward0>)"
      ]
     },
     "execution_count": 201,
     "metadata": {},
     "output_type": "execute_result"
    }
   ],
   "source": [
    "x = torch.tensor([[100], \n",
    "                  [1],\n",
    "                  [2],\n",
    "                  [3]]).float()\n",
    "\n",
    "edge_index = torch.tensor([[0, 1, 1, 2, 3, 2], \n",
    "                           [1, 0, 2, 1, 2, 3]])\n",
    "\n",
    "edge_weights = torch.tensor([[0.3],\n",
    "                             [0.3],\n",
    "                             [0.9],\n",
    "                             [0.9],\n",
    "                             [0.1],\n",
    "                             [0.1]])\n",
    "\n",
    "gat_net(x, edge_index, edge_weights)"
   ]
  }
 ],
 "metadata": {
  "kernelspec": {
   "display_name": "Networks",
   "language": "python",
   "name": "python3"
  },
  "language_info": {
   "codemirror_mode": {
    "name": "ipython",
    "version": 3
   },
   "file_extension": ".py",
   "mimetype": "text/x-python",
   "name": "python",
   "nbconvert_exporter": "python",
   "pygments_lexer": "ipython3",
   "version": "3.11.8"
  }
 },
 "nbformat": 4,
 "nbformat_minor": 2
}
