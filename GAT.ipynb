{
 "cells": [
  {
   "cell_type": "code",
   "execution_count": 16,
   "metadata": {},
   "outputs": [],
   "source": [
    "import json\n",
    "\n",
    "import pandas as pd\n",
    "import numpy as np\n",
    "import networkx as nx\n",
    "\n",
    "import torch\n",
    "from torch_geometric.nn import GATv2Conv, global_max_pool\n",
    "from torch_geometric.data import Data\n",
    "from torch_geometric.loader import GraphSAINTRandomWalkSampler, GraphSAINTNodeSampler\n",
    "from matplotlib import pyplot as plt\n",
    "\n",
    "from train_utils import *\n",
    "from product_graph import *\n",
    "from tqdm.notebook import tqdm\n",
    "from torch_geometric.utils import to_dense_adj\n",
    "from torch.nn import MSELoss\n",
    "from product_graph import generate_parametric_product_graph\n",
    "import networkx as nx\n",
    "from torch_geometric.utils import from_networkx\n",
    "import torch.nn.functional as F\n",
    "import torch.nn as nn\n",
    "from torch_geometric.utils import from_scipy_sparse_matrix"
   ]
  },
  {
   "cell_type": "code",
   "execution_count": 39,
   "metadata": {},
   "outputs": [],
   "source": [
    "class GATv3Conv(torch.nn.Module):\n",
    "    def __init__(self, in_channels, out_channels, concat = True, heads=1) -> None:\n",
    "        super().__init__()\n",
    "        self.beta = torch.nn.Parameter(torch.tensor(0.5))\n",
    "        self.conv = GATv2Conv(in_channels, out_channels, heads, concat, add_self_loops=False)\n",
    "\n",
    "    def forward(self, x, edge_index, edge_weights):\n",
    "        H, C = self.conv.heads, self.conv.out_channels\n",
    "\n",
    "        if isinstance(x, torch.Tensor):\n",
    "            assert x.dim() == 2\n",
    "            x_l = self.conv.lin_l(x).view(-1, H, C)\n",
    "            if self.conv.share_weights:\n",
    "                x_r = x_l\n",
    "            else:\n",
    "                x_r = self.conv.lin_r(x).view(-1, H, C)\n",
    "        else:\n",
    "            raise TypeError(\"x must be a Tensor\")\n",
    "\n",
    "        assert x_l is not None\n",
    "        assert x_r is not None\n",
    "\n",
    "        # edge_updater_type: (x: PairTensor, edge_attr: OptTensor)\n",
    "        alpha = self.conv.edge_updater(edge_index, x=(x_l, x_r), edge_attr=None)\n",
    "        \n",
    "        alpha = (1-self.beta) * alpha + self.beta * edge_weights.view(edge_weights.shape[0],1)\n",
    "        # propagate_type: (x: PairTensor, alpha: Tensor)\n",
    "        out = self.conv.propagate(edge_index, x=(x_l, x_r), alpha=alpha)\n",
    "\n",
    "        if self.conv.concat:\n",
    "            out = out.view(-1, self.conv.heads * self.conv.out_channels)\n",
    "        else:\n",
    "            out = out.mean(dim=1)\n",
    "\n",
    "        if self.conv.bias is not None:\n",
    "            out = out + self.conv.bias\n",
    "\n",
    "        return out\n",
    "    \n",
    "\n",
    "class GATNN(torch.nn.Module):\n",
    "    def __init__(self, in_dim, hidden_size, out_dim, in_head=8, out_head=1, p=0.25) -> None:\n",
    "        super().__init__()\n",
    "        self.hid = hidden_size\n",
    "        self.in_head = in_head\n",
    "        self.out_head = out_head\n",
    "        self.p = p\n",
    "        \n",
    "        self.conv1 = GATv3Conv(in_channels=in_dim, \n",
    "                               out_channels=self.hid, \n",
    "                               heads=self.in_head)\n",
    "        \n",
    "        self.conv2 = GATv3Conv(in_channels=self.hid*self.in_head, \n",
    "                               out_channels=self.hid, \n",
    "                               heads=self.out_head, \n",
    "                               concat=False)\n",
    "        \n",
    "        self.lin = nn.Linear(self.hid, out_dim)\n",
    "\n",
    "    def forward(self, x, edge_index, edge_weight):\n",
    "        x = self.conv1(x, edge_index, edge_weight)\n",
    "        x = F.relu(x)\n",
    "        x = F.dropout(x, p=self.p, training=self.training)\n",
    "        x = self.conv2(x, edge_index, edge_weight)\n",
    "        \n",
    "        batch = torch.zeros(x.size(0), dtype=torch.long)\n",
    "        x = global_max_pool(x, batch, size=x.shape[0]//4)\n",
    "\n",
    "        x = self.lin(x)\n",
    "        return x"
   ]
  },
  {
   "cell_type": "code",
   "execution_count": 28,
   "metadata": {},
   "outputs": [
    {
     "name": "stderr",
     "output_type": "stream",
     "text": [
      "C:\\Users\\erena\\AppData\\Local\\Temp\\ipykernel_1348140\\4039232763.py:6: UserWarning: To copy construct from a tensor, it is recommended to use sourceTensor.clone().detach() or sourceTensor.clone().detach().requires_grad_(True), rather than torch.tensor(sourceTensor).\n",
      "  edge_index = torch.nonzero(torch.tensor(S), as_tuple=False).t().contiguous()\n"
     ]
    }
   ],
   "source": [
    "dynamic_data = torch.tensor(np.load(\"data/preprocessed/dynamic_data.npy\", allow_pickle=True))\n",
    "S = torch.tensor(np.load(\"data/adjacency/coords_features.npy\", allow_pickle=False))\n",
    "\n",
    "calendar_df = pd.read_csv('data/preprocessed/calendar.csv')\n",
    "data = Data(x = dynamic_data)\n",
    "edge_index = torch.nonzero(torch.tensor(S), as_tuple=False).t().contiguous()\n",
    "edge_weight = S[edge_index[0], edge_index[1]]\n",
    "data.edge_index = edge_index\n",
    "data.edge_weight = edge_weight"
   ]
  },
  {
   "cell_type": "code",
   "execution_count": 42,
   "metadata": {},
   "outputs": [],
   "source": [
    "criterion = MSELoss()\n",
    "device = torch.device('cuda' if torch.cuda.is_available() else 'cpu')\n",
    "\n",
    "model = GATNN(in_dim=1, hidden_size=32, out_dim=1).cpu()\n",
    "\n",
    "loader = GraphSAINTNodeSampler (\n",
    "    data,\n",
    "    batch_size=200,\n",
    "    num_steps=6,\n",
    ")\n",
    "optimizer = torch.optim.Adam(model.parameters(), lr=1e-4, weight_decay=5e-4)\n",
    "\n",
    "temporal_adj = np.array([[0, 0, 0, 0],\n",
    "                [1, 0, 0, 0],\n",
    "                [0, 1, 0, 0],\n",
    "                [0, 0, 1, 0]])"
   ]
  },
  {
   "cell_type": "code",
   "execution_count": 33,
   "metadata": {},
   "outputs": [
    {
     "data": {
      "text/plain": [
       "1451"
      ]
     },
     "execution_count": 33,
     "metadata": {},
     "output_type": "execute_result"
    }
   ],
   "source": [
    "totalCount = 0\n",
    "\n",
    "for param in model.parameters():\n",
    "    totalCount += param.nelement()\n",
    "\n",
    "totalCount"
   ]
  },
  {
   "cell_type": "code",
   "execution_count": 43,
   "metadata": {},
   "outputs": [
    {
     "data": {
      "application/vnd.jupyter.widget-view+json": {
       "model_id": "50f0b7f4e9224951a6c967193a0a0c63",
       "version_major": 2,
       "version_minor": 0
      },
      "text/plain": [
       "  0%|          | 0/275 [00:00<?, ?it/s]"
      ]
     },
     "metadata": {},
     "output_type": "display_data"
    },
    {
     "name": "stderr",
     "output_type": "stream",
     "text": [
      "c:\\Users\\erena\\anaconda3\\envs\\Networks\\Lib\\site-packages\\torch\\nn\\modules\\loss.py:535: UserWarning: Using a target size (torch.Size([191])) that is different to the input size (torch.Size([191, 1])). This will likely lead to incorrect results due to broadcasting. Please ensure they have the same size.\n",
      "  return F.mse_loss(input, target, reduction=self.reduction)\n"
     ]
    },
    {
     "name": "stdout",
     "output_type": "stream",
     "text": [
      "Epoch: 0 Batch Loss: 33260036.0\n"
     ]
    },
    {
     "data": {
      "application/vnd.jupyter.widget-view+json": {
       "model_id": "2d23542f701b4cf68667601e71188f4c",
       "version_major": 2,
       "version_minor": 0
      },
      "text/plain": [
       "  0%|          | 0/275 [00:00<?, ?it/s]"
      ]
     },
     "metadata": {},
     "output_type": "display_data"
    },
    {
     "name": "stdout",
     "output_type": "stream",
     "text": [
      "Epoch: 0 Batch Loss: 16121438.0\n"
     ]
    },
    {
     "data": {
      "application/vnd.jupyter.widget-view+json": {
       "model_id": "e7fdff723d124195af12bb080f1092a3",
       "version_major": 2,
       "version_minor": 0
      },
      "text/plain": [
       "  0%|          | 0/275 [00:00<?, ?it/s]"
      ]
     },
     "metadata": {},
     "output_type": "display_data"
    },
    {
     "name": "stderr",
     "output_type": "stream",
     "text": [
      "c:\\Users\\erena\\anaconda3\\envs\\Networks\\Lib\\site-packages\\torch\\nn\\modules\\loss.py:535: UserWarning: Using a target size (torch.Size([190])) that is different to the input size (torch.Size([190, 1])). This will likely lead to incorrect results due to broadcasting. Please ensure they have the same size.\n",
      "  return F.mse_loss(input, target, reduction=self.reduction)\n"
     ]
    },
    {
     "name": "stdout",
     "output_type": "stream",
     "text": [
      "Epoch: 0 Batch Loss: 16728816.0\n"
     ]
    },
    {
     "data": {
      "application/vnd.jupyter.widget-view+json": {
       "model_id": "824746e2eda7482e90211fb13933100d",
       "version_major": 2,
       "version_minor": 0
      },
      "text/plain": [
       "  0%|          | 0/275 [00:00<?, ?it/s]"
      ]
     },
     "metadata": {},
     "output_type": "display_data"
    },
    {
     "name": "stderr",
     "output_type": "stream",
     "text": [
      "c:\\Users\\erena\\anaconda3\\envs\\Networks\\Lib\\site-packages\\torch\\nn\\modules\\loss.py:535: UserWarning: Using a target size (torch.Size([193])) that is different to the input size (torch.Size([193, 1])). This will likely lead to incorrect results due to broadcasting. Please ensure they have the same size.\n",
      "  return F.mse_loss(input, target, reduction=self.reduction)\n"
     ]
    },
    {
     "name": "stdout",
     "output_type": "stream",
     "text": [
      "Epoch: 0 Batch Loss: 22029212.0\n"
     ]
    },
    {
     "data": {
      "application/vnd.jupyter.widget-view+json": {
       "model_id": "3a09b998364e40ef9012b717475a561f",
       "version_major": 2,
       "version_minor": 0
      },
      "text/plain": [
       "  0%|          | 0/275 [00:00<?, ?it/s]"
      ]
     },
     "metadata": {},
     "output_type": "display_data"
    },
    {
     "name": "stderr",
     "output_type": "stream",
     "text": [
      "c:\\Users\\erena\\anaconda3\\envs\\Networks\\Lib\\site-packages\\torch\\nn\\modules\\loss.py:535: UserWarning: Using a target size (torch.Size([192])) that is different to the input size (torch.Size([192, 1])). This will likely lead to incorrect results due to broadcasting. Please ensure they have the same size.\n",
      "  return F.mse_loss(input, target, reduction=self.reduction)\n"
     ]
    },
    {
     "name": "stdout",
     "output_type": "stream",
     "text": [
      "Epoch: 0 Batch Loss: 25327138.0\n"
     ]
    },
    {
     "data": {
      "application/vnd.jupyter.widget-view+json": {
       "model_id": "ef138a1730cf4462961fc7d2bcf63b25",
       "version_major": 2,
       "version_minor": 0
      },
      "text/plain": [
       "  0%|          | 0/275 [00:00<?, ?it/s]"
      ]
     },
     "metadata": {},
     "output_type": "display_data"
    },
    {
     "name": "stderr",
     "output_type": "stream",
     "text": [
      "c:\\Users\\erena\\anaconda3\\envs\\Networks\\Lib\\site-packages\\torch\\nn\\modules\\loss.py:535: UserWarning: Using a target size (torch.Size([189])) that is different to the input size (torch.Size([189, 1])). This will likely lead to incorrect results due to broadcasting. Please ensure they have the same size.\n",
      "  return F.mse_loss(input, target, reduction=self.reduction)\n"
     ]
    },
    {
     "name": "stdout",
     "output_type": "stream",
     "text": [
      "Epoch: 0 Batch Loss: 18342316.0\n"
     ]
    },
    {
     "data": {
      "application/vnd.jupyter.widget-view+json": {
       "model_id": "c4274e38c6d54097aceb74cb241e333e",
       "version_major": 2,
       "version_minor": 0
      },
      "text/plain": [
       "  0%|          | 0/275 [00:00<?, ?it/s]"
      ]
     },
     "metadata": {},
     "output_type": "display_data"
    },
    {
     "name": "stdout",
     "output_type": "stream",
     "text": [
      "Epoch: 1 Batch Loss: 16614172.0\n"
     ]
    },
    {
     "data": {
      "application/vnd.jupyter.widget-view+json": {
       "model_id": "955203f9039144ecbb86a2ec11ea1826",
       "version_major": 2,
       "version_minor": 0
      },
      "text/plain": [
       "  0%|          | 0/275 [00:00<?, ?it/s]"
      ]
     },
     "metadata": {},
     "output_type": "display_data"
    },
    {
     "name": "stderr",
     "output_type": "stream",
     "text": [
      "c:\\Users\\erena\\anaconda3\\envs\\Networks\\Lib\\site-packages\\torch\\nn\\modules\\loss.py:535: UserWarning: Using a target size (torch.Size([195])) that is different to the input size (torch.Size([195, 1])). This will likely lead to incorrect results due to broadcasting. Please ensure they have the same size.\n",
      "  return F.mse_loss(input, target, reduction=self.reduction)\n"
     ]
    },
    {
     "name": "stdout",
     "output_type": "stream",
     "text": [
      "Epoch: 1 Batch Loss: 16264415.0\n"
     ]
    },
    {
     "data": {
      "application/vnd.jupyter.widget-view+json": {
       "model_id": "d724445aad4c47c1a14ffdeb37780257",
       "version_major": 2,
       "version_minor": 0
      },
      "text/plain": [
       "  0%|          | 0/275 [00:00<?, ?it/s]"
      ]
     },
     "metadata": {},
     "output_type": "display_data"
    },
    {
     "name": "stderr",
     "output_type": "stream",
     "text": [
      "c:\\Users\\erena\\anaconda3\\envs\\Networks\\Lib\\site-packages\\torch\\nn\\modules\\loss.py:535: UserWarning: Using a target size (torch.Size([187])) that is different to the input size (torch.Size([187, 1])). This will likely lead to incorrect results due to broadcasting. Please ensure they have the same size.\n",
      "  return F.mse_loss(input, target, reduction=self.reduction)\n"
     ]
    },
    {
     "name": "stdout",
     "output_type": "stream",
     "text": [
      "Epoch: 1 Batch Loss: 17461024.0\n"
     ]
    },
    {
     "data": {
      "application/vnd.jupyter.widget-view+json": {
       "model_id": "8bfa0db028af44b8adf261c9a4959ec0",
       "version_major": 2,
       "version_minor": 0
      },
      "text/plain": [
       "  0%|          | 0/275 [00:00<?, ?it/s]"
      ]
     },
     "metadata": {},
     "output_type": "display_data"
    },
    {
     "name": "stdout",
     "output_type": "stream",
     "text": [
      "Epoch: 1 Batch Loss: 18469132.0\n"
     ]
    },
    {
     "data": {
      "application/vnd.jupyter.widget-view+json": {
       "model_id": "b47021f6cfe74d868b41d8eecf31a8a3",
       "version_major": 2,
       "version_minor": 0
      },
      "text/plain": [
       "  0%|          | 0/275 [00:00<?, ?it/s]"
      ]
     },
     "metadata": {},
     "output_type": "display_data"
    },
    {
     "name": "stdout",
     "output_type": "stream",
     "text": [
      "Epoch: 1 Batch Loss: 17200608.0\n"
     ]
    },
    {
     "data": {
      "application/vnd.jupyter.widget-view+json": {
       "model_id": "e787de9429b944b9bdec85ae4d3be2b8",
       "version_major": 2,
       "version_minor": 0
      },
      "text/plain": [
       "  0%|          | 0/275 [00:00<?, ?it/s]"
      ]
     },
     "metadata": {},
     "output_type": "display_data"
    },
    {
     "ename": "KeyboardInterrupt",
     "evalue": "",
     "output_type": "error",
     "traceback": [
      "\u001b[1;31m---------------------------------------------------------------------------\u001b[0m",
      "\u001b[1;31mKeyboardInterrupt\u001b[0m                         Traceback (most recent call last)",
      "Cell \u001b[1;32mIn[43], line 28\u001b[0m\n\u001b[0;32m     25\u001b[0m \u001b[38;5;28;01mfor\u001b[39;00m i \u001b[38;5;129;01min\u001b[39;00m tqdm(\u001b[38;5;28mrange\u001b[39m(batch_sample\u001b[38;5;241m.\u001b[39mx\u001b[38;5;241m.\u001b[39mshape[\u001b[38;5;241m0\u001b[39m])):\n\u001b[0;32m     27\u001b[0m     optimizer\u001b[38;5;241m.\u001b[39mzero_grad()\n\u001b[1;32m---> 28\u001b[0m     out \u001b[38;5;241m=\u001b[39m model(batch_x[i]\u001b[38;5;241m.\u001b[39mfloat(), product_edge_index,product_edge_weight\u001b[38;5;241m.\u001b[39mfloat())\n\u001b[0;32m     29\u001b[0m     \u001b[38;5;66;03m# print(f'out shape: {out.shape} \\n y shape {batch_y[i].shape}')\u001b[39;00m\n\u001b[0;32m     30\u001b[0m     \u001b[38;5;66;03m# print(out)\u001b[39;00m\n\u001b[0;32m     31\u001b[0m     loss \u001b[38;5;241m=\u001b[39m criterion(out, batch_y[i]\u001b[38;5;241m.\u001b[39mfloat())\n",
      "File \u001b[1;32mc:\\Users\\erena\\anaconda3\\envs\\Networks\\Lib\\site-packages\\torch\\nn\\modules\\module.py:1511\u001b[0m, in \u001b[0;36mModule._wrapped_call_impl\u001b[1;34m(self, *args, **kwargs)\u001b[0m\n\u001b[0;32m   1509\u001b[0m     \u001b[38;5;28;01mreturn\u001b[39;00m \u001b[38;5;28mself\u001b[39m\u001b[38;5;241m.\u001b[39m_compiled_call_impl(\u001b[38;5;241m*\u001b[39margs, \u001b[38;5;241m*\u001b[39m\u001b[38;5;241m*\u001b[39mkwargs)  \u001b[38;5;66;03m# type: ignore[misc]\u001b[39;00m\n\u001b[0;32m   1510\u001b[0m \u001b[38;5;28;01melse\u001b[39;00m:\n\u001b[1;32m-> 1511\u001b[0m     \u001b[38;5;28;01mreturn\u001b[39;00m \u001b[38;5;28mself\u001b[39m\u001b[38;5;241m.\u001b[39m_call_impl(\u001b[38;5;241m*\u001b[39margs, \u001b[38;5;241m*\u001b[39m\u001b[38;5;241m*\u001b[39mkwargs)\n",
      "File \u001b[1;32mc:\\Users\\erena\\anaconda3\\envs\\Networks\\Lib\\site-packages\\torch\\nn\\modules\\module.py:1520\u001b[0m, in \u001b[0;36mModule._call_impl\u001b[1;34m(self, *args, **kwargs)\u001b[0m\n\u001b[0;32m   1515\u001b[0m \u001b[38;5;66;03m# If we don't have any hooks, we want to skip the rest of the logic in\u001b[39;00m\n\u001b[0;32m   1516\u001b[0m \u001b[38;5;66;03m# this function, and just call forward.\u001b[39;00m\n\u001b[0;32m   1517\u001b[0m \u001b[38;5;28;01mif\u001b[39;00m \u001b[38;5;129;01mnot\u001b[39;00m (\u001b[38;5;28mself\u001b[39m\u001b[38;5;241m.\u001b[39m_backward_hooks \u001b[38;5;129;01mor\u001b[39;00m \u001b[38;5;28mself\u001b[39m\u001b[38;5;241m.\u001b[39m_backward_pre_hooks \u001b[38;5;129;01mor\u001b[39;00m \u001b[38;5;28mself\u001b[39m\u001b[38;5;241m.\u001b[39m_forward_hooks \u001b[38;5;129;01mor\u001b[39;00m \u001b[38;5;28mself\u001b[39m\u001b[38;5;241m.\u001b[39m_forward_pre_hooks\n\u001b[0;32m   1518\u001b[0m         \u001b[38;5;129;01mor\u001b[39;00m _global_backward_pre_hooks \u001b[38;5;129;01mor\u001b[39;00m _global_backward_hooks\n\u001b[0;32m   1519\u001b[0m         \u001b[38;5;129;01mor\u001b[39;00m _global_forward_hooks \u001b[38;5;129;01mor\u001b[39;00m _global_forward_pre_hooks):\n\u001b[1;32m-> 1520\u001b[0m     \u001b[38;5;28;01mreturn\u001b[39;00m forward_call(\u001b[38;5;241m*\u001b[39margs, \u001b[38;5;241m*\u001b[39m\u001b[38;5;241m*\u001b[39mkwargs)\n\u001b[0;32m   1522\u001b[0m \u001b[38;5;28;01mtry\u001b[39;00m:\n\u001b[0;32m   1523\u001b[0m     result \u001b[38;5;241m=\u001b[39m \u001b[38;5;28;01mNone\u001b[39;00m\n",
      "Cell \u001b[1;32mIn[39], line 61\u001b[0m, in \u001b[0;36mGATNN.forward\u001b[1;34m(self, x, edge_index, edge_weight)\u001b[0m\n\u001b[0;32m     60\u001b[0m \u001b[38;5;28;01mdef\u001b[39;00m \u001b[38;5;21mforward\u001b[39m(\u001b[38;5;28mself\u001b[39m, x, edge_index, edge_weight):\n\u001b[1;32m---> 61\u001b[0m     x \u001b[38;5;241m=\u001b[39m \u001b[38;5;28mself\u001b[39m\u001b[38;5;241m.\u001b[39mconv1(x, edge_index, edge_weight)\n\u001b[0;32m     62\u001b[0m     x \u001b[38;5;241m=\u001b[39m F\u001b[38;5;241m.\u001b[39mrelu(x)\n\u001b[0;32m     63\u001b[0m     x \u001b[38;5;241m=\u001b[39m F\u001b[38;5;241m.\u001b[39mdropout(x, p\u001b[38;5;241m=\u001b[39m\u001b[38;5;28mself\u001b[39m\u001b[38;5;241m.\u001b[39mp, training\u001b[38;5;241m=\u001b[39m\u001b[38;5;28mself\u001b[39m\u001b[38;5;241m.\u001b[39mtraining)\n",
      "File \u001b[1;32mc:\\Users\\erena\\anaconda3\\envs\\Networks\\Lib\\site-packages\\torch\\nn\\modules\\module.py:1511\u001b[0m, in \u001b[0;36mModule._wrapped_call_impl\u001b[1;34m(self, *args, **kwargs)\u001b[0m\n\u001b[0;32m   1509\u001b[0m     \u001b[38;5;28;01mreturn\u001b[39;00m \u001b[38;5;28mself\u001b[39m\u001b[38;5;241m.\u001b[39m_compiled_call_impl(\u001b[38;5;241m*\u001b[39margs, \u001b[38;5;241m*\u001b[39m\u001b[38;5;241m*\u001b[39mkwargs)  \u001b[38;5;66;03m# type: ignore[misc]\u001b[39;00m\n\u001b[0;32m   1510\u001b[0m \u001b[38;5;28;01melse\u001b[39;00m:\n\u001b[1;32m-> 1511\u001b[0m     \u001b[38;5;28;01mreturn\u001b[39;00m \u001b[38;5;28mself\u001b[39m\u001b[38;5;241m.\u001b[39m_call_impl(\u001b[38;5;241m*\u001b[39margs, \u001b[38;5;241m*\u001b[39m\u001b[38;5;241m*\u001b[39mkwargs)\n",
      "File \u001b[1;32mc:\\Users\\erena\\anaconda3\\envs\\Networks\\Lib\\site-packages\\torch\\nn\\modules\\module.py:1520\u001b[0m, in \u001b[0;36mModule._call_impl\u001b[1;34m(self, *args, **kwargs)\u001b[0m\n\u001b[0;32m   1515\u001b[0m \u001b[38;5;66;03m# If we don't have any hooks, we want to skip the rest of the logic in\u001b[39;00m\n\u001b[0;32m   1516\u001b[0m \u001b[38;5;66;03m# this function, and just call forward.\u001b[39;00m\n\u001b[0;32m   1517\u001b[0m \u001b[38;5;28;01mif\u001b[39;00m \u001b[38;5;129;01mnot\u001b[39;00m (\u001b[38;5;28mself\u001b[39m\u001b[38;5;241m.\u001b[39m_backward_hooks \u001b[38;5;129;01mor\u001b[39;00m \u001b[38;5;28mself\u001b[39m\u001b[38;5;241m.\u001b[39m_backward_pre_hooks \u001b[38;5;129;01mor\u001b[39;00m \u001b[38;5;28mself\u001b[39m\u001b[38;5;241m.\u001b[39m_forward_hooks \u001b[38;5;129;01mor\u001b[39;00m \u001b[38;5;28mself\u001b[39m\u001b[38;5;241m.\u001b[39m_forward_pre_hooks\n\u001b[0;32m   1518\u001b[0m         \u001b[38;5;129;01mor\u001b[39;00m _global_backward_pre_hooks \u001b[38;5;129;01mor\u001b[39;00m _global_backward_hooks\n\u001b[0;32m   1519\u001b[0m         \u001b[38;5;129;01mor\u001b[39;00m _global_forward_hooks \u001b[38;5;129;01mor\u001b[39;00m _global_forward_pre_hooks):\n\u001b[1;32m-> 1520\u001b[0m     \u001b[38;5;28;01mreturn\u001b[39;00m forward_call(\u001b[38;5;241m*\u001b[39margs, \u001b[38;5;241m*\u001b[39m\u001b[38;5;241m*\u001b[39mkwargs)\n\u001b[0;32m   1522\u001b[0m \u001b[38;5;28;01mtry\u001b[39;00m:\n\u001b[0;32m   1523\u001b[0m     result \u001b[38;5;241m=\u001b[39m \u001b[38;5;28;01mNone\u001b[39;00m\n",
      "Cell \u001b[1;32mIn[39], line 24\u001b[0m, in \u001b[0;36mGATv3Conv.forward\u001b[1;34m(self, x, edge_index, edge_weights)\u001b[0m\n\u001b[0;32m     21\u001b[0m \u001b[38;5;28;01massert\u001b[39;00m x_r \u001b[38;5;129;01mis\u001b[39;00m \u001b[38;5;129;01mnot\u001b[39;00m \u001b[38;5;28;01mNone\u001b[39;00m\n\u001b[0;32m     23\u001b[0m \u001b[38;5;66;03m# edge_updater_type: (x: PairTensor, edge_attr: OptTensor)\u001b[39;00m\n\u001b[1;32m---> 24\u001b[0m alpha \u001b[38;5;241m=\u001b[39m \u001b[38;5;28mself\u001b[39m\u001b[38;5;241m.\u001b[39mconv\u001b[38;5;241m.\u001b[39medge_updater(edge_index, x\u001b[38;5;241m=\u001b[39m(x_l, x_r), edge_attr\u001b[38;5;241m=\u001b[39m\u001b[38;5;28;01mNone\u001b[39;00m)\n\u001b[0;32m     26\u001b[0m alpha \u001b[38;5;241m=\u001b[39m (\u001b[38;5;241m1\u001b[39m\u001b[38;5;241m-\u001b[39m\u001b[38;5;28mself\u001b[39m\u001b[38;5;241m.\u001b[39mbeta) \u001b[38;5;241m*\u001b[39m alpha \u001b[38;5;241m+\u001b[39m \u001b[38;5;28mself\u001b[39m\u001b[38;5;241m.\u001b[39mbeta \u001b[38;5;241m*\u001b[39m edge_weights\u001b[38;5;241m.\u001b[39mview(edge_weights\u001b[38;5;241m.\u001b[39mshape[\u001b[38;5;241m0\u001b[39m],\u001b[38;5;241m1\u001b[39m)\n\u001b[0;32m     27\u001b[0m \u001b[38;5;66;03m# propagate_type: (x: PairTensor, alpha: Tensor)\u001b[39;00m\n",
      "File \u001b[1;32m~\\AppData\\Local\\Temp\\torch_geometric.nn.conv.gatv2_conv_GATv2Conv_edge_updater_l73blnqv.py:169\u001b[0m, in \u001b[0;36medge_updater\u001b[1;34m(self, edge_index, x, edge_attr, size)\u001b[0m\n\u001b[0;32m    159\u001b[0m             kwargs \u001b[38;5;241m=\u001b[39m CollectArgs(\n\u001b[0;32m    160\u001b[0m                 x_j\u001b[38;5;241m=\u001b[39mhook_kwargs[\u001b[38;5;124m'\u001b[39m\u001b[38;5;124mx_j\u001b[39m\u001b[38;5;124m'\u001b[39m],\n\u001b[0;32m    161\u001b[0m                 x_i\u001b[38;5;241m=\u001b[39mhook_kwargs[\u001b[38;5;124m'\u001b[39m\u001b[38;5;124mx_i\u001b[39m\u001b[38;5;124m'\u001b[39m],\n\u001b[1;32m   (...)\u001b[0m\n\u001b[0;32m    165\u001b[0m                 dim_size\u001b[38;5;241m=\u001b[39mhook_kwargs[\u001b[38;5;124m'\u001b[39m\u001b[38;5;124mdim_size\u001b[39m\u001b[38;5;124m'\u001b[39m],\n\u001b[0;32m    166\u001b[0m             )\n\u001b[0;32m    167\u001b[0m \u001b[38;5;66;03m# End Edge Update Forward Pre Hook #########################################\u001b[39;00m\n\u001b[1;32m--> 169\u001b[0m out \u001b[38;5;241m=\u001b[39m \u001b[38;5;28mself\u001b[39m\u001b[38;5;241m.\u001b[39medge_update(\n\u001b[0;32m    170\u001b[0m     x_j\u001b[38;5;241m=\u001b[39mkwargs\u001b[38;5;241m.\u001b[39mx_j,\n\u001b[0;32m    171\u001b[0m     x_i\u001b[38;5;241m=\u001b[39mkwargs\u001b[38;5;241m.\u001b[39mx_i,\n\u001b[0;32m    172\u001b[0m     edge_attr\u001b[38;5;241m=\u001b[39mkwargs\u001b[38;5;241m.\u001b[39medge_attr,\n\u001b[0;32m    173\u001b[0m     index\u001b[38;5;241m=\u001b[39mkwargs\u001b[38;5;241m.\u001b[39mindex,\n\u001b[0;32m    174\u001b[0m     ptr\u001b[38;5;241m=\u001b[39mkwargs\u001b[38;5;241m.\u001b[39mptr,\n\u001b[0;32m    175\u001b[0m     dim_size\u001b[38;5;241m=\u001b[39mkwargs\u001b[38;5;241m.\u001b[39mdim_size,\n\u001b[0;32m    176\u001b[0m )\n\u001b[0;32m    178\u001b[0m \u001b[38;5;66;03m# Begin Edge Update Forward Hook ###########################################\u001b[39;00m\n\u001b[0;32m    179\u001b[0m \u001b[38;5;28;01mif\u001b[39;00m \u001b[38;5;129;01mnot\u001b[39;00m torch\u001b[38;5;241m.\u001b[39mjit\u001b[38;5;241m.\u001b[39mis_scripting() \u001b[38;5;129;01mand\u001b[39;00m \u001b[38;5;129;01mnot\u001b[39;00m is_compiling():\n",
      "File \u001b[1;32mc:\\Users\\erena\\anaconda3\\envs\\Networks\\Lib\\site-packages\\torch_geometric\\nn\\conv\\gatv2_conv.py:338\u001b[0m, in \u001b[0;36mGATv2Conv.edge_update\u001b[1;34m(self, x_j, x_i, edge_attr, index, ptr, dim_size)\u001b[0m\n\u001b[0;32m    335\u001b[0m     edge_attr \u001b[38;5;241m=\u001b[39m edge_attr\u001b[38;5;241m.\u001b[39mview(\u001b[38;5;241m-\u001b[39m\u001b[38;5;241m1\u001b[39m, \u001b[38;5;28mself\u001b[39m\u001b[38;5;241m.\u001b[39mheads, \u001b[38;5;28mself\u001b[39m\u001b[38;5;241m.\u001b[39mout_channels)\n\u001b[0;32m    336\u001b[0m     x \u001b[38;5;241m=\u001b[39m x \u001b[38;5;241m+\u001b[39m edge_attr\n\u001b[1;32m--> 338\u001b[0m x \u001b[38;5;241m=\u001b[39m F\u001b[38;5;241m.\u001b[39mleaky_relu(x, \u001b[38;5;28mself\u001b[39m\u001b[38;5;241m.\u001b[39mnegative_slope)\n\u001b[0;32m    339\u001b[0m alpha \u001b[38;5;241m=\u001b[39m (x \u001b[38;5;241m*\u001b[39m \u001b[38;5;28mself\u001b[39m\u001b[38;5;241m.\u001b[39matt)\u001b[38;5;241m.\u001b[39msum(dim\u001b[38;5;241m=\u001b[39m\u001b[38;5;241m-\u001b[39m\u001b[38;5;241m1\u001b[39m)\n\u001b[0;32m    340\u001b[0m alpha \u001b[38;5;241m=\u001b[39m softmax(alpha, index, ptr, dim_size)\n",
      "File \u001b[1;32mc:\\Users\\erena\\anaconda3\\envs\\Networks\\Lib\\site-packages\\torch\\nn\\functional.py:1634\u001b[0m, in \u001b[0;36mleaky_relu\u001b[1;34m(input, negative_slope, inplace)\u001b[0m\n\u001b[0;32m   1621\u001b[0m     \u001b[38;5;28;01mreturn\u001b[39;00m result\n\u001b[0;32m   1624\u001b[0m celu_ \u001b[38;5;241m=\u001b[39m _add_docstr(\n\u001b[0;32m   1625\u001b[0m     torch\u001b[38;5;241m.\u001b[39mcelu_,\n\u001b[0;32m   1626\u001b[0m \u001b[38;5;250m    \u001b[39m\u001b[38;5;124mr\u001b[39m\u001b[38;5;124;03m\"\"\"\u001b[39;00m\n\u001b[1;32m   (...)\u001b[0m\n\u001b[0;32m   1630\u001b[0m \u001b[38;5;124;03m\"\"\"\u001b[39;00m,\n\u001b[0;32m   1631\u001b[0m )\n\u001b[1;32m-> 1634\u001b[0m \u001b[38;5;28;01mdef\u001b[39;00m \u001b[38;5;21mleaky_relu\u001b[39m(\u001b[38;5;28minput\u001b[39m: Tensor, negative_slope: \u001b[38;5;28mfloat\u001b[39m \u001b[38;5;241m=\u001b[39m \u001b[38;5;241m0.01\u001b[39m, inplace: \u001b[38;5;28mbool\u001b[39m \u001b[38;5;241m=\u001b[39m \u001b[38;5;28;01mFalse\u001b[39;00m) \u001b[38;5;241m-\u001b[39m\u001b[38;5;241m>\u001b[39m Tensor:  \u001b[38;5;66;03m# noqa: D400,D402\u001b[39;00m\n\u001b[0;32m   1635\u001b[0m \u001b[38;5;250m    \u001b[39m\u001b[38;5;124mr\u001b[39m\u001b[38;5;124;03m\"\"\"\u001b[39;00m\n\u001b[0;32m   1636\u001b[0m \u001b[38;5;124;03m    leaky_relu(input, negative_slope=0.01, inplace=False) -> Tensor\u001b[39;00m\n\u001b[0;32m   1637\u001b[0m \n\u001b[1;32m   (...)\u001b[0m\n\u001b[0;32m   1641\u001b[0m \u001b[38;5;124;03m    See :class:`~torch.nn.LeakyReLU` for more details.\u001b[39;00m\n\u001b[0;32m   1642\u001b[0m \u001b[38;5;124;03m    \"\"\"\u001b[39;00m\n\u001b[0;32m   1643\u001b[0m     \u001b[38;5;28;01mif\u001b[39;00m has_torch_function_unary(\u001b[38;5;28minput\u001b[39m):\n",
      "\u001b[1;31mKeyboardInterrupt\u001b[0m: "
     ]
    }
   ],
   "source": [
    "train_loss = []\n",
    "for epoch in range(20):\n",
    "    model.train()\n",
    "    total_loss = 0\n",
    "    for i, batch in enumerate(loader):\n",
    "        batch_loss = 0\n",
    "        dataset = create_forecasting_dataset(batch.x.T,\n",
    "                                        splits = None,\n",
    "                                        pred_horizen= 1,\n",
    "                                        obs_window= 4,\n",
    "                                        verbose = 0)\n",
    "        batch_sample = Data(x = torch.tensor(dataset['trn']['data']), y = torch.tensor(dataset['trn']['labels']), \n",
    "                            edge_index= batch.edge_index, edge_weight = batch.edge_weight)\n",
    "\n",
    "        batch_adj = to_dense_adj(batch_sample.edge_index, edge_attr=batch_sample.edge_weight).squeeze(dim = 0).numpy()\n",
    "        \n",
    "        product_graph = generate_parametric_product_graph(s00 = 0, s01 = 1, s10 = 1, s11 = 1, A_T = temporal_adj, A_N = batch_adj, spatial_graph = None)\n",
    "        product_edge_index, product_edge_weight = from_scipy_sparse_matrix(product_graph)\n",
    "        \n",
    "        batch_x = batch_sample.x.reshape(batch_sample.x.shape[0], batch_sample.x.shape[1]* batch_sample.x.shape[2], 1)\n",
    "        batch_y = batch_sample.y.reshape(batch_sample.y.shape[0], batch_sample.y.shape[1])\n",
    "        \n",
    "        for i in tqdm(range(batch_sample.x.shape[0])):\n",
    "            optimizer.zero_grad()\n",
    "            out = model(batch_x[i].float(), product_edge_index,product_edge_weight.float())\n",
    "            # print(f'out shape: {out.shape} \\n y shape {batch_y[i].shape}')\n",
    "            # print(out)\n",
    "            loss = criterion(out, batch_y[i].float())\n",
    "            batch_loss += loss\n",
    "        \n",
    "            loss.backward()\n",
    "            optimizer.step()\n",
    "            \n",
    "        total_loss += batch_loss\n",
    "        print(f'Epoch: {epoch} Batch Loss: {batch_loss}')\n",
    "    train_loss.append(total_loss)"
   ]
  },
  {
   "cell_type": "code",
   "execution_count": 114,
   "metadata": {},
   "outputs": [
    {
     "name": "stdout",
     "output_type": "stream",
     "text": [
      "tensor([[ 2.2100e-01],\n",
      "        [ 1.3513e+03],\n",
      "        [ 5.9633e+02],\n",
      "        [ 7.5958e+02],\n",
      "        [ 4.6309e+02],\n",
      "        [ 1.1660e+03],\n",
      "        [ 1.0380e+03],\n",
      "        [ 7.7342e+02],\n",
      "        [-7.0580e+01],\n",
      "        [ 2.1796e+02]], grad_fn=<SliceBackward0>)\n",
      "tensor([125, 300, 129,  80, 295,  60, 199,  81, 225,  85, 299,  80,  36,  99,\n",
      "         50, 167, 289, 469,  80, 200, 354, 295, 228, 299, 140, 150, 125, 125,\n",
      "        139, 225, 199, 249, 145, 100, 450, 300, 170, 137, 116, 150, 600, 149,\n",
      "        197, 260, 200, 155, 155,  99, 139, 228, 199, 129, 155, 220, 110, 251,\n",
      "        199, 160, 150, 195, 228, 231, 150, 279, 135, 189, 225, 200, 300, 265,\n",
      "        299, 207, 305, 189, 186, 150, 199, 255, 130, 169, 139, 266, 225,  90,\n",
      "        224, 194, 300,  60,  82,  78, 100, 200, 249, 149, 200, 457, 571, 177,\n",
      "        150, 199, 275, 129, 179, 175, 242, 157, 160, 159, 299, 165, 115, 139,\n",
      "        230, 499, 179, 690, 537, 150, 259, 375,  91, 259, 199, 139, 250, 185,\n",
      "        239, 329, 231, 231, 125, 179, 109, 329, 289, 457,  70, 449, 310, 199,\n",
      "        228, 329, 457, 228,  87, 228, 150, 120, 100, 113,  92,  60, 112,  75,\n",
      "         75,  75,  65,  99, 109,  35,  52,  75, 160, 165,  65,  36, 340, 180,\n",
      "        457, 209, 215, 419, 180, 199, 250, 100, 100, 180, 140, 195,  85,  29,\n",
      "         79,  99, 999, 115,  29, 279, 158,  90, 179,  69,  70],\n",
      "       dtype=torch.int32)\n"
     ]
    }
   ],
   "source": [
    "print(out[:10])\n",
    "print(batch_y[0])"
   ]
  },
  {
   "cell_type": "code",
   "execution_count": 76,
   "metadata": {},
   "outputs": [
    {
     "name": "stdout",
     "output_type": "stream",
     "text": [
      "193.0\n"
     ]
    }
   ],
   "source": [
    "print(out.shape[0]/ 4)"
   ]
  },
  {
   "cell_type": "code",
   "execution_count": null,
   "metadata": {},
   "outputs": [],
   "source": [
    "model.eval()\n",
    "_, pred = model(x_test).max(dim=1)\n",
    "correct = float(pred.eq(y_test).sum().item())\n",
    "acc = correct / x_test.sum().item()\n",
    "print('Accuracy: {:.4f}'.format(acc))"
   ]
  },
  {
   "cell_type": "code",
   "execution_count": 201,
   "metadata": {},
   "outputs": [
    {
     "data": {
      "text/plain": [
       "tensor([[-5.4292],\n",
       "        [-0.9369],\n",
       "        [-4.6689],\n",
       "        [-0.5501]], grad_fn=<AddBackward0>)"
      ]
     },
     "execution_count": 201,
     "metadata": {},
     "output_type": "execute_result"
    }
   ],
   "source": [
    "x = torch.tensor([[100], \n",
    "                  [1],\n",
    "                  [2],\n",
    "                  [3]]).float()\n",
    "\n",
    "edge_index = torch.tensor([[0, 1, 1, 2, 3, 2], \n",
    "                           [1, 0, 2, 1, 2, 3]])\n",
    "\n",
    "edge_weights = torch.tensor([[0.3],\n",
    "                             [0.3],\n",
    "                             [0.9],\n",
    "                             [0.9],\n",
    "                             [0.1],\n",
    "                             [0.1]])\n",
    "\n",
    "gat_net(x, edge_index, edge_weights)"
   ]
  }
 ],
 "metadata": {
  "kernelspec": {
   "display_name": "Networks",
   "language": "python",
   "name": "python3"
  },
  "language_info": {
   "codemirror_mode": {
    "name": "ipython",
    "version": 3
   },
   "file_extension": ".py",
   "mimetype": "text/x-python",
   "name": "python",
   "nbconvert_exporter": "python",
   "pygments_lexer": "ipython3",
   "version": "3.11.8"
  }
 },
 "nbformat": 4,
 "nbformat_minor": 2
}
